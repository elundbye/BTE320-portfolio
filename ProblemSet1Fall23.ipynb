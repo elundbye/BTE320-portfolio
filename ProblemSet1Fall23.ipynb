{
  "cells": [
    {
      "cell_type": "markdown",
      "metadata": {
        "id": "view-in-github",
        "colab_type": "text"
      },
      "source": [
        "<a href=\"https://colab.research.google.com/github/elundbye/BTE320-Portfolio/blob/main/ProblemSet1Fall23.ipynb\" target=\"_parent\"><img src=\"https://colab.research.google.com/assets/colab-badge.svg\" alt=\"Open In Colab\"/></a>"
      ]
    },
    {
      "cell_type": "markdown",
      "metadata": {
        "id": "mqKVIuY-mxNU"
      },
      "source": [
        "# Problem Set 2"
      ]
    },
    {
      "cell_type": "markdown",
      "metadata": {
        "id": "-RSYW1jVm08n"
      },
      "source": [
        "## Assignment 1: Quality Control (7 points)\n",
        "\n",
        "A quality control manager would like to find the average weight of a list of weights. Prior experience indicates that the first two measures are atypical, and the practice is to exclude these from the average calculation.\n",
        "\n",
        "Write a program that calculates the average of a list of numbers that given as inputs from the user, excluding the first two values.\n",
        "\n",
        "For your program, you must define and use the following functions:\n",
        "- `getValues(n)`: Prompt the user for `n` values, returns the list\n",
        "- `calcAverage(alist)`: Calculates the average from the list"
      ]
    },
    {
      "cell_type": "code",
      "execution_count": null,
      "metadata": {
        "id": "AqbgJkgNmvQw",
        "colab": {
          "base_uri": "https://localhost:8080/"
        },
        "outputId": "fe607a41-0064-45f3-ec51-1b178df56bc9"
      },
      "outputs": [
        {
          "output_type": "stream",
          "name": "stdout",
          "text": [
            "enter number of weights: 4\n",
            "Enter weight: 50\n",
            "Enter weight: 1000\n",
            "Enter weight: 10\n",
            "Enter weight: 20\n",
            "15.0\n"
          ]
        }
      ],
      "source": [
        "def getValues(n):\n",
        "  weights = []\n",
        "  for i in range(n):\n",
        "    weight = float(input(\"Enter weight: \"))\n",
        "    weights.append(weight)\n",
        "  return weights [2:]\n",
        "\n",
        "def calcAverage(alist):\n",
        "  print(sum(alist) / len(alist))\n",
        "\n",
        "n_weights = int(input(\"enter number of weights: \"))\n",
        "L = getValues(n_weights)\n",
        "avg = calcAverage(L)"
      ]
    },
    {
      "cell_type": "markdown",
      "metadata": {
        "id": "QFO0Kzx8ncnv"
      },
      "source": [
        "## Assignment 2: Country Statistics Lookup-Multiple Measures (6 points)\n",
        "\n",
        "Assume a program begins with the statement:\n",
        "\n",
        "```python\n",
        "allData = { # dictionary of values for countries\n",
        "    'US': {'pop':325.7, 'gdp': 19.39, 'ccy': 'USD', 'fx':  1.0},\n",
        "    'CA': {'pop': 36.5, 'gdp':  1.65, 'ccy': 'CAD', 'fx':  1.35},\n",
        "    'MX': {'pop':129.2, 'gdp':  1.15, 'ccy': 'MXN', 'fx': 19.68}\n",
        "    }\n",
        "```\n",
        "\n",
        "Write subsequent statements that (in a loop) prompt the user for a country code (`US`, `CA`, or `MX`), then prompt for a measure name (`pop`, `gdp`, `ccy`, or `fx`), then look up in the above dictionary for the corresponding value, and display it.\n",
        "\n",
        "Example run:\n",
        "```\n",
        "Please enter a country code: CA\n",
        "Please enter a statistic: pop\n",
        "CA pop = 36.5\n",
        "```\n",
        "\n",
        "Your program should handle the cases where a user-entered country code or measure name is not found."
      ]
    },
    {
      "cell_type": "code",
      "execution_count": null,
      "metadata": {
        "id": "NZFjRINKowEW"
      },
      "outputs": [],
      "source": [
        "allData = { # dictionary of values for countries\n",
        "    'US': {'pop':325.7, 'gdp': 19.39, 'ccy': 'USD', 'fx':  1.0},\n",
        "    'CA': {'pop': 36.5, 'gdp':  1.65, 'ccy': 'CAD', 'fx':  1.35},\n",
        "    'MX': {'pop':129.2, 'gdp':  1.15, 'ccy': 'MXN', 'fx': 19.68}\n",
        "    }\n",
        "while True:\n",
        "  country_code = input('input country code: ')\n",
        "\n",
        "  if country_code == 'exit':\n",
        "    break\n",
        "\n",
        "  if country_code not in allData.keys():\n",
        "    print('Country data not available')\n",
        "    continue\n",
        "\n",
        "  stat = input(\"enter a statistic: \")\n",
        "\n",
        "  if stat not in allData[country_code]:\n",
        "    print('Data not available')\n",
        "    continue\n",
        "\n",
        "  if stat == 'pop':\n",
        "    print(f'Population: {allData[country_code][stat]} million people')\n",
        "  elif stat == 'gdp':\n",
        "    print(f'GDP:{allData[country_code][stat]} trillion $')\n",
        "  elif stat == 'ccy':\n",
        "    print(f'Currency: {allData[country_code][stat]}')\n",
        "  else:\n",
        "    print(f'FX:{allData[country_code][stat]}')"
      ]
    },
    {
      "cell_type": "markdown",
      "metadata": {
        "id": "GjaUFrnfpKFf"
      },
      "source": [
        "## Assignment 3: Parking Garage (6 points)\n",
        "\n",
        "Write a program to compute the fee for parking in a garage for a number of hours.\n",
        "\n",
        "The program should:\n",
        "- Prompt the user for how many hours parked\n",
        "- Calculate the fee based on the following rules:\n",
        "  - $2.50/hour\n",
        "\n",
        "  - minimum fee is $6.00\n",
        "\n",
        "  - maximum fee is $20.00\n",
        "- Print the result\n",
        "\n",
        "For your program, define and use the following two functions:\n",
        "```python\n",
        "# use input() to prompt for the # of hours parked, return this value\n",
        "def getParkingHours()\n",
        "\n",
        "# takes as input hours (a number), returns the parking fee\n",
        "def calcParkingFee()\n",
        "```"
      ]
    },
    {
      "cell_type": "code",
      "execution_count": null,
      "metadata": {
        "id": "5ha4O3V5pwNN",
        "colab": {
          "base_uri": "https://localhost:8080/"
        },
        "outputId": "a219dafd-d619-4b90-cb59-07f152d57b9c"
      },
      "outputs": [
        {
          "output_type": "stream",
          "name": "stdout",
          "text": [
            "Enter number of hours parked: 5\n",
            "Total fee: $12.5\n"
          ]
        }
      ],
      "source": [
        "def getParkingHours():\n",
        "    hours = int(input(\"Enter number of hours parked: \"))\n",
        "    return hours\n",
        "\n",
        "def calcParkingFee(h):\n",
        "    fee= 2.5 * h\n",
        "    if fee < 6:\n",
        "      return 6\n",
        "    elif fee >= 20:\n",
        "      return 20\n",
        "    else:\n",
        "      return fee\n",
        "\n",
        "hours = getParkingHours()\n",
        "fee = calcParkingFee(hours)\n",
        "print(f'Total fee: ${fee}')"
      ]
    },
    {
      "cell_type": "markdown",
      "metadata": {
        "id": "gipBObe5qm-2"
      },
      "source": [
        "## Assignment 4: Tuition (6 points)\n",
        "\n",
        "A college charges tuition according to the following:\n",
        "- 12 or more credits: $20,000/semester\n",
        "\n",
        "- 1-11 credits: $1,200 + $1,700 per credit\n",
        "\n",
        "Write a program that prompts the user for a number of credits and determines and displays the tuition for the semester. As part of your program, define and use the following function:\n",
        "```python\n",
        "def calcTuition(credits)\n",
        "```\n",
        "The function returns the tuition for a given number of credits"
      ]
    },
    {
      "cell_type": "code",
      "execution_count": null,
      "metadata": {
        "id": "BPcn9ywzrL8y"
      },
      "outputs": [],
      "source": [
        "def calcTuition(credits):\n",
        "  if credits >= 12:\n",
        "    print(f'Tuition = ${20000}')\n",
        "  elif credits >=1:\n",
        "    print(f'tuition = {12000 + 1700 * credits}')\n",
        "  else:\n",
        "    print('invalid number of credits')\n",
        "\n",
        "  n_credits = int(input('Enter number of credits: '))\n",
        "  calcTuition(n_credits)\n"
      ]
    }
  ],
  "metadata": {
    "colab": {
      "provenance": [],
      "include_colab_link": true
    },
    "kernelspec": {
      "display_name": "Python 3",
      "name": "python3"
    },
    "language_info": {
      "name": "python"
    }
  },
  "nbformat": 4,
  "nbformat_minor": 0
}