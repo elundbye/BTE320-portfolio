{
  "nbformat": 4,
  "nbformat_minor": 0,
  "metadata": {
    "colab": {
      "provenance": [],
      "authorship_tag": "ABX9TyOzWebIjUmU0GeW6qU9riE7",
      "include_colab_link": true
    },
    "kernelspec": {
      "name": "python3",
      "display_name": "Python 3"
    },
    "language_info": {
      "name": "python"
    }
  },
  "cells": [
    {
      "cell_type": "markdown",
      "metadata": {
        "id": "view-in-github",
        "colab_type": "text"
      },
      "source": [
        "<a href=\"https://colab.research.google.com/github/elundbye/BTE320-Portfolio/blob/main/Rock_paper_scissors.ipynb\" target=\"_parent\"><img src=\"https://colab.research.google.com/assets/colab-badge.svg\" alt=\"Open In Colab\"/></a>"
      ]
    },
    {
      "cell_type": "code",
      "execution_count": 6,
      "metadata": {
        "id": "GiKr6Pam4W7j",
        "colab": {
          "base_uri": "https://localhost:8080/"
        },
        "outputId": "c9aebe41-f274-4ed7-84ea-15738b4c1fac"
      },
      "outputs": [
        {
          "output_type": "stream",
          "name": "stdout",
          "text": [
            "Choose one (rock, paper, or scissors): rock\n",
            "Player wins!)\n"
          ]
        }
      ],
      "source": [
        "import random\n",
        "pc_choice = random.choice (['rock', 'paper', 'scissors'])\n",
        "x = input(\"Choose one (rock, paper, or scissors): \")\n",
        "if x == pc_choice:\n",
        "  print(\"tie!)\")\n",
        "elif x== 'rock' and pc_choice == 'paper':\n",
        "  print(\"PC wins!)\")\n",
        "elif x== 'rock' and pc_choice == 'scissors':\n",
        "  print(\"Player wins!)\")\n",
        "elif x== 'paper' and pc_choice == 'scissors':\n",
        "  print(\"PC wins!)\")\n",
        "elif x== 'paper' and pc_choice == 'rock':\n",
        "  print(\"Player wins!)\")\n",
        "elif x== 'scissors' and pc_choice == 'rock':\n",
        "  print(\"PC wins!)\")\n",
        "elif x== 'scissors' and pc_choice == 'paper':\n",
        "  print(\"Player wins!)\")\n",
        "\n"
      ]
    }
  ]
}